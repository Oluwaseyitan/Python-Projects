{
 "cells": [
  {
   "cell_type": "code",
   "execution_count": 196,
   "metadata": {},
   "outputs": [],
   "source": [
    "import numpy as np\n",
    "import pandas as pd\n",
    "import matplotlib.pyplot as plt\n",
    "Train = pd.read_csv (\"C:/Users/Sdeol/Desktop/all (1)/train1_tech.csv\")"
   ]
  },
  {
   "cell_type": "code",
   "execution_count": 197,
   "metadata": {},
   "outputs": [
    {
     "data": {
      "text/html": [
       "<div>\n",
       "<style scoped>\n",
       "    .dataframe tbody tr th:only-of-type {\n",
       "        vertical-align: middle;\n",
       "    }\n",
       "\n",
       "    .dataframe tbody tr th {\n",
       "        vertical-align: top;\n",
       "    }\n",
       "\n",
       "    .dataframe thead th {\n",
       "        text-align: right;\n",
       "    }\n",
       "</style>\n",
       "<table border=\"1\" class=\"dataframe\">\n",
       "  <thead>\n",
       "    <tr style=\"text-align: right;\">\n",
       "      <th></th>\n",
       "      <th>CustomerID</th>\n",
       "      <th>HomeOwnerFlag</th>\n",
       "      <th>NumberCarsOwned</th>\n",
       "      <th>TotalChildren</th>\n",
       "      <th>YearlyIncome</th>\n",
       "      <th>AveMonthSpend</th>\n",
       "      <th>BikeBuyer</th>\n",
       "      <th>CountryRegionName</th>\n",
       "      <th>BirthDate</th>\n",
       "      <th>Education</th>\n",
       "      <th>Occupation</th>\n",
       "      <th>Gender</th>\n",
       "      <th>MaritalStatus</th>\n",
       "    </tr>\n",
       "  </thead>\n",
       "  <tbody>\n",
       "    <tr>\n",
       "      <th>0</th>\n",
       "      <td>22409</td>\n",
       "      <td>1</td>\n",
       "      <td>0</td>\n",
       "      <td>0</td>\n",
       "      <td>11336</td>\n",
       "      <td>37</td>\n",
       "      <td>0</td>\n",
       "      <td>0</td>\n",
       "      <td>4377</td>\n",
       "      <td>0</td>\n",
       "      <td>0</td>\n",
       "      <td>0</td>\n",
       "      <td>1</td>\n",
       "    </tr>\n",
       "    <tr>\n",
       "      <th>1</th>\n",
       "      <td>15809</td>\n",
       "      <td>1</td>\n",
       "      <td>3</td>\n",
       "      <td>5</td>\n",
       "      <td>81978</td>\n",
       "      <td>135</td>\n",
       "      <td>1</td>\n",
       "      <td>0</td>\n",
       "      <td>4835</td>\n",
       "      <td>3</td>\n",
       "      <td>4</td>\n",
       "      <td>1</td>\n",
       "      <td>0</td>\n",
       "    </tr>\n",
       "    <tr>\n",
       "      <th>2</th>\n",
       "      <td>17246</td>\n",
       "      <td>1</td>\n",
       "      <td>3</td>\n",
       "      <td>0</td>\n",
       "      <td>134331</td>\n",
       "      <td>81</td>\n",
       "      <td>1</td>\n",
       "      <td>0</td>\n",
       "      <td>265</td>\n",
       "      <td>0</td>\n",
       "      <td>3</td>\n",
       "      <td>1</td>\n",
       "      <td>1</td>\n",
       "    </tr>\n",
       "    <tr>\n",
       "      <th>3</th>\n",
       "      <td>13040</td>\n",
       "      <td>1</td>\n",
       "      <td>2</td>\n",
       "      <td>3</td>\n",
       "      <td>50919</td>\n",
       "      <td>66</td>\n",
       "      <td>0</td>\n",
       "      <td>0</td>\n",
       "      <td>4919</td>\n",
       "      <td>2</td>\n",
       "      <td>4</td>\n",
       "      <td>1</td>\n",
       "      <td>0</td>\n",
       "    </tr>\n",
       "    <tr>\n",
       "      <th>4</th>\n",
       "      <td>18297</td>\n",
       "      <td>0</td>\n",
       "      <td>2</td>\n",
       "      <td>0</td>\n",
       "      <td>92524</td>\n",
       "      <td>54</td>\n",
       "      <td>1</td>\n",
       "      <td>0</td>\n",
       "      <td>4586</td>\n",
       "      <td>0</td>\n",
       "      <td>3</td>\n",
       "      <td>0</td>\n",
       "      <td>1</td>\n",
       "    </tr>\n",
       "  </tbody>\n",
       "</table>\n",
       "</div>"
      ],
      "text/plain": [
       "   CustomerID  HomeOwnerFlag  NumberCarsOwned  TotalChildren  YearlyIncome  \\\n",
       "0       22409              1                0              0         11336   \n",
       "1       15809              1                3              5         81978   \n",
       "2       17246              1                3              0        134331   \n",
       "3       13040              1                2              3         50919   \n",
       "4       18297              0                2              0         92524   \n",
       "\n",
       "   AveMonthSpend  BikeBuyer  CountryRegionName  BirthDate  Education  \\\n",
       "0             37          0                  0       4377          0   \n",
       "1            135          1                  0       4835          3   \n",
       "2             81          1                  0        265          0   \n",
       "3             66          0                  0       4919          2   \n",
       "4             54          1                  0       4586          0   \n",
       "\n",
       "   Occupation  Gender  MaritalStatus  \n",
       "0           0       0              1  \n",
       "1           4       1              0  \n",
       "2           3       1              1  \n",
       "3           4       1              0  \n",
       "4           3       0              1  "
      ]
     },
     "execution_count": 197,
     "metadata": {},
     "output_type": "execute_result"
    }
   ],
   "source": [
    "Train.head()"
   ]
  },
  {
   "cell_type": "code",
   "execution_count": 198,
   "metadata": {},
   "outputs": [
    {
     "data": {
      "text/html": [
       "<div>\n",
       "<style scoped>\n",
       "    .dataframe tbody tr th:only-of-type {\n",
       "        vertical-align: middle;\n",
       "    }\n",
       "\n",
       "    .dataframe tbody tr th {\n",
       "        vertical-align: top;\n",
       "    }\n",
       "\n",
       "    .dataframe thead th {\n",
       "        text-align: right;\n",
       "    }\n",
       "</style>\n",
       "<table border=\"1\" class=\"dataframe\">\n",
       "  <thead>\n",
       "    <tr style=\"text-align: right;\">\n",
       "      <th></th>\n",
       "      <th>CustomerID</th>\n",
       "      <th>HomeOwnerFlag</th>\n",
       "      <th>NumberCarsOwned</th>\n",
       "      <th>TotalChildren</th>\n",
       "      <th>YearlyIncome</th>\n",
       "      <th>AveMonthSpend</th>\n",
       "      <th>BikeBuyer</th>\n",
       "      <th>CountryRegionName</th>\n",
       "      <th>BirthDate</th>\n",
       "      <th>Education</th>\n",
       "      <th>Occupation</th>\n",
       "      <th>Gender</th>\n",
       "      <th>MaritalStatus</th>\n",
       "    </tr>\n",
       "  </thead>\n",
       "  <tbody>\n",
       "    <tr>\n",
       "      <th>count</th>\n",
       "      <td>7654.000000</td>\n",
       "      <td>7654.000000</td>\n",
       "      <td>7654.000000</td>\n",
       "      <td>7654.000000</td>\n",
       "      <td>7654.000000</td>\n",
       "      <td>7654.000000</td>\n",
       "      <td>7654.000000</td>\n",
       "      <td>7654.000000</td>\n",
       "      <td>7654.000000</td>\n",
       "      <td>7654.000000</td>\n",
       "      <td>7654.000000</td>\n",
       "      <td>7654.000000</td>\n",
       "      <td>7654.000000</td>\n",
       "    </tr>\n",
       "    <tr>\n",
       "      <th>mean</th>\n",
       "      <td>18784.735824</td>\n",
       "      <td>0.695192</td>\n",
       "      <td>1.581657</td>\n",
       "      <td>2.161092</td>\n",
       "      <td>82289.196891</td>\n",
       "      <td>76.505357</td>\n",
       "      <td>0.498171</td>\n",
       "      <td>3.063627</td>\n",
       "      <td>2606.277110</td>\n",
       "      <td>1.643846</td>\n",
       "      <td>2.342827</td>\n",
       "      <td>0.520512</td>\n",
       "      <td>0.490332</td>\n",
       "    </tr>\n",
       "    <tr>\n",
       "      <th>std</th>\n",
       "      <td>4795.026146</td>\n",
       "      <td>0.460356</td>\n",
       "      <td>1.186209</td>\n",
       "      <td>1.731424</td>\n",
       "      <td>40658.245901</td>\n",
       "      <td>29.465195</td>\n",
       "      <td>0.500029</td>\n",
       "      <td>2.005676</td>\n",
       "      <td>1490.015768</td>\n",
       "      <td>1.360103</td>\n",
       "      <td>1.374404</td>\n",
       "      <td>0.499612</td>\n",
       "      <td>0.499939</td>\n",
       "    </tr>\n",
       "    <tr>\n",
       "      <th>min</th>\n",
       "      <td>11001.000000</td>\n",
       "      <td>0.000000</td>\n",
       "      <td>0.000000</td>\n",
       "      <td>0.000000</td>\n",
       "      <td>10036.000000</td>\n",
       "      <td>22.000000</td>\n",
       "      <td>0.000000</td>\n",
       "      <td>0.000000</td>\n",
       "      <td>0.000000</td>\n",
       "      <td>0.000000</td>\n",
       "      <td>0.000000</td>\n",
       "      <td>0.000000</td>\n",
       "      <td>0.000000</td>\n",
       "    </tr>\n",
       "    <tr>\n",
       "      <th>25%</th>\n",
       "      <td>14760.750000</td>\n",
       "      <td>0.000000</td>\n",
       "      <td>1.000000</td>\n",
       "      <td>1.000000</td>\n",
       "      <td>50765.750000</td>\n",
       "      <td>53.000000</td>\n",
       "      <td>0.000000</td>\n",
       "      <td>1.000000</td>\n",
       "      <td>1296.250000</td>\n",
       "      <td>0.000000</td>\n",
       "      <td>1.000000</td>\n",
       "      <td>0.000000</td>\n",
       "      <td>0.000000</td>\n",
       "    </tr>\n",
       "    <tr>\n",
       "      <th>50%</th>\n",
       "      <td>18479.500000</td>\n",
       "      <td>1.000000</td>\n",
       "      <td>2.000000</td>\n",
       "      <td>2.000000</td>\n",
       "      <td>82233.500000</td>\n",
       "      <td>72.000000</td>\n",
       "      <td>0.000000</td>\n",
       "      <td>4.000000</td>\n",
       "      <td>2631.500000</td>\n",
       "      <td>2.000000</td>\n",
       "      <td>3.000000</td>\n",
       "      <td>1.000000</td>\n",
       "      <td>0.000000</td>\n",
       "    </tr>\n",
       "    <tr>\n",
       "      <th>75%</th>\n",
       "      <td>22431.500000</td>\n",
       "      <td>1.000000</td>\n",
       "      <td>2.000000</td>\n",
       "      <td>4.000000</td>\n",
       "      <td>109853.500000</td>\n",
       "      <td>89.000000</td>\n",
       "      <td>1.000000</td>\n",
       "      <td>5.000000</td>\n",
       "      <td>3904.750000</td>\n",
       "      <td>3.000000</td>\n",
       "      <td>3.000000</td>\n",
       "      <td>1.000000</td>\n",
       "      <td>1.000000</td>\n",
       "    </tr>\n",
       "    <tr>\n",
       "      <th>max</th>\n",
       "      <td>29481.000000</td>\n",
       "      <td>1.000000</td>\n",
       "      <td>4.000000</td>\n",
       "      <td>5.000000</td>\n",
       "      <td>193721.000000</td>\n",
       "      <td>176.000000</td>\n",
       "      <td>1.000000</td>\n",
       "      <td>5.000000</td>\n",
       "      <td>5167.000000</td>\n",
       "      <td>4.000000</td>\n",
       "      <td>4.000000</td>\n",
       "      <td>1.000000</td>\n",
       "      <td>1.000000</td>\n",
       "    </tr>\n",
       "  </tbody>\n",
       "</table>\n",
       "</div>"
      ],
      "text/plain": [
       "         CustomerID  HomeOwnerFlag  NumberCarsOwned  TotalChildren  \\\n",
       "count   7654.000000    7654.000000      7654.000000    7654.000000   \n",
       "mean   18784.735824       0.695192         1.581657       2.161092   \n",
       "std     4795.026146       0.460356         1.186209       1.731424   \n",
       "min    11001.000000       0.000000         0.000000       0.000000   \n",
       "25%    14760.750000       0.000000         1.000000       1.000000   \n",
       "50%    18479.500000       1.000000         2.000000       2.000000   \n",
       "75%    22431.500000       1.000000         2.000000       4.000000   \n",
       "max    29481.000000       1.000000         4.000000       5.000000   \n",
       "\n",
       "        YearlyIncome  AveMonthSpend    BikeBuyer  CountryRegionName  \\\n",
       "count    7654.000000    7654.000000  7654.000000        7654.000000   \n",
       "mean    82289.196891      76.505357     0.498171           3.063627   \n",
       "std     40658.245901      29.465195     0.500029           2.005676   \n",
       "min     10036.000000      22.000000     0.000000           0.000000   \n",
       "25%     50765.750000      53.000000     0.000000           1.000000   \n",
       "50%     82233.500000      72.000000     0.000000           4.000000   \n",
       "75%    109853.500000      89.000000     1.000000           5.000000   \n",
       "max    193721.000000     176.000000     1.000000           5.000000   \n",
       "\n",
       "         BirthDate    Education   Occupation       Gender  MaritalStatus  \n",
       "count  7654.000000  7654.000000  7654.000000  7654.000000    7654.000000  \n",
       "mean   2606.277110     1.643846     2.342827     0.520512       0.490332  \n",
       "std    1490.015768     1.360103     1.374404     0.499612       0.499939  \n",
       "min       0.000000     0.000000     0.000000     0.000000       0.000000  \n",
       "25%    1296.250000     0.000000     1.000000     0.000000       0.000000  \n",
       "50%    2631.500000     2.000000     3.000000     1.000000       0.000000  \n",
       "75%    3904.750000     3.000000     3.000000     1.000000       1.000000  \n",
       "max    5167.000000     4.000000     4.000000     1.000000       1.000000  "
      ]
     },
     "execution_count": 198,
     "metadata": {},
     "output_type": "execute_result"
    }
   ],
   "source": [
    "Train.describe()"
   ]
  },
  {
   "cell_type": "code",
   "execution_count": 199,
   "metadata": {},
   "outputs": [
    {
     "data": {
      "text/plain": [
       "Text(0.5,1,'YearlyIncome vs AMS')"
      ]
     },
     "execution_count": 199,
     "metadata": {},
     "output_type": "execute_result"
    },
    {
     "data": {
      "image/png": "[encoded data removed]",
      "text/plain": [
       "<Figure size 432x288 with 1 Axes>"
      ]
     },
     "metadata": {},
     "output_type": "display_data"
    }
   ],
   "source": [
    "plt.scatter(Train.YearlyIncome, Train.AveMonthSpend)\n",
    "plt.title (\"YearlyIncome vs AMS\")"
   ]
  },
  {
   "cell_type": "code",
   "execution_count": 200,
   "metadata": {},
   "outputs": [
    {
     "data": {
      "text/plain": [
       "Text(0,0.5,'count')"
      ]
     },
     "execution_count": 200,
     "metadata": {},
     "output_type": "execute_result"
    },
    {
     "data": {
      "image/png": "[encoded data removed]",
      "text/plain": [
       "<Figure size 432x288 with 1 Axes>"
      ]
     },
     "metadata": {},
     "output_type": "display_data"
    }
   ],
   "source": [
    "Train[\"CountryRegionName\"].value_counts().plot(kind=\"bar\")\n",
    "plt.title(\"country name\")\n",
    "plt.xlabel(\"CountryRegionName\")\n",
    "plt.ylabel (\"count\")"
   ]
  },
  {
   "cell_type": "code",
   "execution_count": 201,
   "metadata": {},
   "outputs": [
    {
     "data": {
      "text/plain": [
       "Text(0.5,1,'YearlyIncome vs Gender')"
      ]
     },
     "execution_count": 201,
     "metadata": {},
     "output_type": "execute_result"
    },
    {
     "data": {
      "image/png": "[encoded data removed]",
      "text/plain": [
       "<Figure size 432x288 with 1 Axes>"
      ]
     },
     "metadata": {},
     "output_type": "display_data"
    }
   ],
   "source": [
    "plt.scatter(Train.AveMonthSpend, Train.YearlyIncome)\n",
    "plt.title (\"YearlyIncome vs Gender\")"
   ]
  },
  {
   "cell_type": "code",
   "execution_count": 202,
   "metadata": {},
   "outputs": [
    {
     "data": {
      "text/plain": [
       "Text(0.5,1,'YearlyIncome vs Gender')"
      ]
     },
     "execution_count": 202,
     "metadata": {},
     "output_type": "execute_result"
    },
    {
     "data": {
      "image/png": "[encoded data removed]",
      "text/plain": [
       "<Figure size 432x288 with 1 Axes>"
      ]
     },
     "metadata": {},
     "output_type": "display_data"
    }
   ],
   "source": [
    "plt.scatter(Train.Gender, Train.YearlyIncome)\n",
    "plt.title (\"YearlyIncome vs Gender\")"
   ]
  },
  {
   "cell_type": "code",
   "execution_count": 203,
   "metadata": {},
   "outputs": [
    {
     "data": {
      "text/plain": [
       "Text(0.5,1,'AveMonthSpend vs Gender')"
      ]
     },
     "execution_count": 203,
     "metadata": {},
     "output_type": "execute_result"
    },
    {
     "data": {
      "image/png": "[encoded data removed]",
      "text/plain": [
       "<Figure size 432x288 with 1 Axes>"
      ]
     },
     "metadata": {},
     "output_type": "display_data"
    }
   ],
   "source": [
    "plt.scatter(Train.Gender,Train.AveMonthSpend)\n",
    "plt.title (\"AveMonthSpend vs Gender\")"
   ]
  },
  {
   "cell_type": "code",
   "execution_count": 204,
   "metadata": {},
   "outputs": [
    {
     "data": {
      "text/plain": [
       "Text(0.5,1,'TotalChildren vs AMS')"
      ]
     },
     "execution_count": 204,
     "metadata": {},
     "output_type": "execute_result"
    },
    {
     "data": {
      "image/png": "[encoded data removed]",
      "text/plain": [
       "<Figure size 432x288 with 1 Axes>"
      ]
     },
     "metadata": {},
     "output_type": "display_data"
    }
   ],
   "source": [
    "plt.scatter(Train.TotalChildren, Train.AveMonthSpend)\n",
    "plt.title (\"TotalChildren vs AMS\")"
   ]
  },
  {
   "cell_type": "code",
   "execution_count": 205,
   "metadata": {},
   "outputs": [
    {
     "data": {
      "text/plain": [
       "Text(0.5,1,'MArital Status(1=Single, 0=Married) vs AMS')"
      ]
     },
     "execution_count": 205,
     "metadata": {},
     "output_type": "execute_result"
    },
    {
     "data": {
      "image/png": "[encoded data removed]",
      "text/plain": [
       "<Figure size 432x288 with 1 Axes>"
      ]
     },
     "metadata": {},
     "output_type": "display_data"
    }
   ],
   "source": [
    "plt.scatter(Train.MaritalStatus, Train.AveMonthSpend)\n",
    "plt.title (\"MArital Status(1=Single, 0=Married) vs AMS\")"
   ]
  },
  {
   "cell_type": "code",
   "execution_count": 206,
   "metadata": {},
   "outputs": [],
   "source": [
    "from sklearn.linear_model import LinearRegression\n"
   ]
  },
  {
   "cell_type": "code",
   "execution_count": 207,
   "metadata": {},
   "outputs": [],
   "source": [
    "reg = LinearRegression()"
   ]
  },
  {
   "cell_type": "code",
   "execution_count": 208,
   "metadata": {},
   "outputs": [],
   "source": [
    "Labels = Train[\"AveMonthSpend\"]\n",
    "train1 = Train.drop([\"CustomerID\", \"AveMonthSpend\"], axis = 1)"
   ]
  },
  {
   "cell_type": "code",
   "execution_count": 209,
   "metadata": {},
   "outputs": [],
   "source": [
    "from sklearn.cross_validation import train_test_split"
   ]
  },
  {
   "cell_type": "code",
   "execution_count": 210,
   "metadata": {},
   "outputs": [],
   "source": [
    "x_train,x_test, y_train, y_test = train_test_split(train1, Labels, test_size = 0.10, random_state = 2)\n"
   ]
  },
  {
   "cell_type": "code",
   "execution_count": 211,
   "metadata": {},
   "outputs": [
    {
     "data": {
      "text/plain": [
       "LinearRegression(copy_X=True, fit_intercept=True, n_jobs=1, normalize=False)"
      ]
     },
     "execution_count": 211,
     "metadata": {},
     "output_type": "execute_result"
    }
   ],
   "source": [
    "reg.fit(x_train,y_train)"
   ]
  },
  {
   "cell_type": "code",
   "execution_count": 212,
   "metadata": {},
   "outputs": [
    {
     "data": {
      "text/plain": [
       "0.8021320906935664"
      ]
     },
     "execution_count": 212,
     "metadata": {},
     "output_type": "execute_result"
    }
   ],
   "source": [
    "reg.score(x_test, y_test)"
   ]
  },
  {
   "cell_type": "code",
   "execution_count": 213,
   "metadata": {},
   "outputs": [],
   "source": [
    "#Using Gradient descent\n",
    "from sklearn import ensemble\n",
    "clf = ensemble.GradientBoostingRegressor(n_estimators = 400, max_depth = 5, min_samples_split = 2, learning_rate = 0.1, loss = \"ls\")"
   ]
  },
  {
   "cell_type": "code",
   "execution_count": 214,
   "metadata": {},
   "outputs": [
    {
     "data": {
      "text/plain": [
       "GradientBoostingRegressor(alpha=0.9, criterion='friedman_mse', init=None,\n",
       "             learning_rate=0.1, loss='ls', max_depth=5, max_features=None,\n",
       "             max_leaf_nodes=None, min_impurity_decrease=0.0,\n",
       "             min_impurity_split=None, min_samples_leaf=1,\n",
       "             min_samples_split=2, min_weight_fraction_leaf=0.0,\n",
       "             n_estimators=400, presort='auto', random_state=None,\n",
       "             subsample=1.0, verbose=0, warm_start=False)"
      ]
     },
     "execution_count": 214,
     "metadata": {},
     "output_type": "execute_result"
    }
   ],
   "source": [
    "clf.fit(x_train, y_train)"
   ]
  },
  {
   "cell_type": "code",
   "execution_count": 215,
   "metadata": {},
   "outputs": [
    {
     "data": {
      "text/plain": [
       "0.9408134875078944"
      ]
     },
     "execution_count": 215,
     "metadata": {},
     "output_type": "execute_result"
    }
   ],
   "source": [
    "clf.score(x_test, y_test)"
   ]
  },
  {
   "cell_type": "code",
   "execution_count": 216,
   "metadata": {},
   "outputs": [],
   "source": [
    "y_pred = reg.predict(x_test)"
   ]
  },
  {
   "cell_type": "code",
   "execution_count": 217,
   "metadata": {},
   "outputs": [
    {
     "name": "stdout",
     "output_type": "stream",
     "text": [
      "[ 38.39918077 103.83218759  70.97350361  61.75764925  67.58927956\n",
      "  69.32721769  70.03017036 103.76228772 112.07608691  83.24780055\n",
      " 119.66756691 141.69437861  44.38843725  28.2616198  104.39031407\n",
      "  97.78968233  97.63404617  37.2875984  105.17839044  75.50655073\n",
      " 108.04509686 113.8049681  100.9801835  102.15618923  75.02184319\n",
      " 132.70570186  91.42881577  39.2743049   81.02243194  36.22182392\n",
      " 112.05796458  89.13376005 101.78385868  66.92435253  91.59563867\n",
      "  48.84476211  63.93561248  60.39560852 107.00591568  84.76079457\n",
      "  60.54402117  92.73837106  75.91032945  87.73592051  76.2987448\n",
      " 134.26369197  80.96453379  46.29938634 142.07891968  77.82761292\n",
      " 123.1227847   86.97364233 107.93586415  71.81681311  60.75215645\n",
      "  60.74810167  89.25025408  72.72299021  62.06596653  79.03848492\n",
      "  82.85904654  70.62903423  58.28232932  91.61390814  59.07983856\n",
      "  52.06917277 112.57588098 107.61900985 101.95510153  45.70424932\n",
      "  80.77110394 129.11144403  58.16550626  89.41486765  80.91059258\n",
      "  89.62611159 112.31170331  97.87800488  71.27735819  50.72640026\n",
      "  57.90245234  33.15000188  70.5407446   68.3281446   62.93426846\n",
      "  64.84804402  75.16505703  44.13363869  55.36413833 109.84626455\n",
      "  71.31124852 126.83204432 110.07539515  55.16614591 110.90571054\n",
      " 136.85343148 107.50258379  41.89590044  46.59092883 103.49425646\n",
      "  53.44244594  90.55736525  53.5406254   51.93285583 132.88619737\n",
      "  33.39800536  42.0660211   26.87050686  56.54028642 129.03187342\n",
      " 129.70046662  89.90957647 125.7121067   72.57506698  50.0264953\n",
      "  84.29456993  82.88664008  28.92586593  61.61936958 102.94579439\n",
      "  58.37271454  81.77159646  68.17988348  99.55932226 122.4272033\n",
      "  83.49518341  69.87560898 117.44602468  60.07047529  55.88516584\n",
      "  29.59077069 143.63282431  52.43149805  75.67934272  85.02173104\n",
      "  27.81831524  46.74014636  78.48366759  50.59733888  69.10464608\n",
      "  98.8383474   81.20241138  89.93788605  54.49824008  44.10334759\n",
      "  73.09198426  64.40394435  52.1550528   55.20915169  50.82278582\n",
      "  98.96175305  54.98684326 118.8096584   47.98769049 100.14330148\n",
      "  39.84597069 136.58424402  60.48048243  82.03465443  60.27467542\n",
      "  50.27172306  39.07102981 110.60317585  78.18224553  36.22114846\n",
      "  58.3121476   95.16864383  96.4096408   82.87554976  78.45963478\n",
      " 100.54916976  87.47278803  91.84227879  50.75771542  49.66836419\n",
      "  30.09758303  44.96250899  99.31296572  31.12344411  88.61556543\n",
      "  98.73126802  59.70135667  41.13725735  59.61369779  45.33633899\n",
      "  61.93664952 101.7187681   41.68425269 129.5433208   41.36390995\n",
      "  61.70675986  69.19452358  50.46794108  62.19949527  28.5777314\n",
      "  59.68442796  99.479159    42.19148714  60.82152554 121.8294582\n",
      "  93.24906124  86.53043267  80.62465681  71.89308837  56.83810659\n",
      "  32.58084476  74.56861139  39.75242776  74.6897797  103.52955262\n",
      "  46.45701887  46.72516295  72.82276514 113.3124423   40.44604414\n",
      "  28.27741878  83.31849064  85.63755082  39.8767444  111.26633775\n",
      "  76.41079033  83.0129386   66.22382379  51.11382165  88.07774134\n",
      "  70.20861942  77.48037839  70.35818921  90.33452549 116.63596935\n",
      "  69.15453075 112.46112517  67.72354246  44.8536896   66.31564949\n",
      "  68.5900187   29.38273208  37.48060411 102.97882241 103.64120429\n",
      "  92.87058752  57.30111053  69.63193157  54.25490798  44.96900376\n",
      "  78.60641573  79.56631445  39.54983303  98.64578485  47.51580456\n",
      "  66.70219949 103.8750876  121.36618761  70.29193079  77.17677226\n",
      "  97.32420285  76.13571605  84.25340169 113.43052364  57.00435856\n",
      "  61.87369326  39.74164524  87.66346027  26.96916194 118.40207784\n",
      "  79.6597144   52.59292069  41.70171932  59.65869397  51.07206034\n",
      "  83.05969973 107.79393386 106.49513261 110.33960823  83.49888046\n",
      "  84.75615895  74.33833893 122.29779926  32.38082525  31.55391994\n",
      "  82.354204    82.13018273  57.93533717  52.55566612  63.71136989\n",
      "  93.69829204 115.01541127  94.9575247   86.44792883  85.03455862\n",
      "  70.89070256  51.70482771  47.64362036  48.02997615  52.54650014\n",
      " 121.05884145  56.9887254   53.96789841  30.75445202  74.4319388\n",
      "  50.44118942  43.97664358  46.43677713  98.92170646  52.48699576\n",
      " 134.16274713  94.73113754  40.71091753  90.58970409  32.31414582\n",
      "  29.16579988  64.94029695  89.39509067  96.96749054  58.46624494\n",
      "  86.44989992  85.11033028  91.04806347 105.22184444  67.11859522\n",
      "  34.88726075 103.43132932  80.85258391  27.83232071 126.66127662\n",
      "  97.46015267  34.21954054  52.44387219  93.21893239  34.42334002\n",
      "  59.15093396  56.61791151 120.16968546  55.15529166 121.5186178\n",
      "  50.45809068  90.54633372  38.72274319  85.62917245  41.800902\n",
      " 106.52311816  40.12539327  61.93097463  90.70900112 105.72078219\n",
      "  50.98594855  61.15874727  60.11138658  81.0362014   80.98359008\n",
      "  75.96265655 141.24465146  28.37400397  72.18843384  99.90219406\n",
      "  40.28342929  59.14557849 134.72445379 107.14293905  88.70931762\n",
      " 115.82262484  43.07846248  97.90644154 102.25713991 122.98771705\n",
      "  72.94765378  36.3574026   73.63473796  76.57208365  92.79254999\n",
      "  56.61386412  82.17031087  25.85532281 117.61665676 122.75619078\n",
      "  60.77484658  73.86112758  69.2782045   81.30280864  51.60879197\n",
      "  60.63803906 102.50340179 116.47276295  63.85696176  99.55394522\n",
      " 110.67288348  95.5164065  133.35100685  92.19125668  51.66320603\n",
      " 124.15218514  91.14252913  24.0816681   73.73971098  39.36555895\n",
      "  67.51651335  82.89416321 124.99085239  86.73210832 103.51863827\n",
      " 128.15079137  41.8936991  123.53282836  54.49728438  81.6851647\n",
      "  32.22985454 101.60105607  93.63080964  53.68296171  38.21460498\n",
      "  88.06549048  51.4162686   90.03398577  66.26986447 113.57183364\n",
      "  76.60542971  67.42257437  81.47014898  91.24578063 126.74875972\n",
      "  82.64011675  80.3108572   78.45952704  63.82784878 108.80249608\n",
      " 110.57310116  58.07028471  85.35241073  55.72190937  82.61545246\n",
      "  50.06286618  91.34672869 114.68386382  97.59326868  49.43533937\n",
      "  71.21333561 107.43821396 111.33430059  96.38144319  54.35678502\n",
      "  31.60220601  84.90290751  85.4189744   85.35041989  52.75810844\n",
      "  76.0642082   98.87036029  42.1493583   93.92020552  52.08556039\n",
      " 119.96047525  92.73279519  84.45171519  47.15745102  87.91674652\n",
      "  71.50204554  74.21026427 102.3317234  104.06036258 111.63227781\n",
      "  84.65311709 106.50053524  91.99852878  88.7206128   50.51076457\n",
      "  66.01408837  44.23073644  48.0521019   85.38574406  51.16667139\n",
      "  87.05062166  82.78030137  56.07470781  29.02878541  78.70256913\n",
      "  54.23568024  83.33605744  66.85063355  81.98719785  95.70163898\n",
      "  86.78118345  65.47468175  53.31283434  98.7189944  120.23678709\n",
      "  98.94927939  91.54721787  41.70295048 136.29455922  40.06303523\n",
      "  41.31099575  56.64249521  34.32363348  79.88627163  73.12107025\n",
      "  88.92938965  63.60357538  36.40438969  40.92495912  81.47790198\n",
      "  59.26812133  52.61217747  72.81851118  59.48095989 127.10285068\n",
      "  72.73753393  41.44623782  42.54012117 113.19262812  39.67913379\n",
      "  74.54409104  88.91152928  82.56271711  80.28466835  51.77771592\n",
      "  50.04809398  91.380426    68.56974886  59.50589192  68.52175044\n",
      " 124.38241316  83.66284483  42.41850308  79.60914236  37.46322561\n",
      "  64.51943203 100.58655856  93.85530214  34.53556646  35.88795953\n",
      "  51.56938928  76.61960428  57.22096211  83.9986114   32.54226614\n",
      "  65.55727435  52.50006664  58.09490698  81.39522671  64.95837407\n",
      "  72.17774084 111.45031549  77.82001731  95.66915175  85.54585903\n",
      "  82.01084923  29.55511755  50.36031454  85.7697435  122.60760674\n",
      " 129.63263553 110.76129705  73.51092524 113.1220029   53.52264726\n",
      " 122.03771114  40.75331963  25.19490156  85.0257357   43.05184313\n",
      "  62.96771362  72.9376239   31.54609598  64.32358615  54.39199092\n",
      "  91.76602152 131.0473198   92.69750597  67.29482142  43.97208683\n",
      "  68.81273607  75.72550656  66.31737363  84.32902203  60.32526814\n",
      "  77.61139597 100.25725065 120.94604763  91.61374347 101.87390174\n",
      "  97.03090853  66.55669357  45.09476218  79.59722462 109.04976289\n",
      " 118.82669396  60.87162851  96.8432543   67.63553    129.29231183\n",
      "  92.33477725  80.89398635  59.74940745  53.51843888  54.06345318\n",
      "  83.03693275  41.2551364   70.80215259  99.46463993  53.31002406\n",
      "  83.50057262  60.90008455  69.42669849  91.35174652  99.90982116\n",
      "  74.23153708 107.39576188  62.91748979  73.06258106  82.53631823\n",
      "  61.76168381 112.25081038  69.51062466  92.26821652 108.95926836\n",
      "  58.55584185  98.6881393  117.89351849  42.43862117  99.08081983\n",
      "  63.3264109   48.79766504  94.34365387 139.48884533 114.97226021\n",
      "  69.61515129  46.81727718 115.9732459   70.83535927  94.00183177\n",
      "  42.04336398  60.21730025  66.51233881  60.70222557  72.45475916\n",
      "  43.13104038  45.8637206  109.19010074  99.43228056  52.92970979\n",
      "  44.71141146  59.25414922  87.69171508  54.71866432  87.79925195\n",
      "  35.93638651 123.59483422  97.38421462  66.13362874  48.77775361\n",
      "  88.29012515  55.42618593 100.33471016  43.4218752  128.20637209\n",
      "  72.56309996  39.69953019  75.33626012  60.00777528  94.60583058\n",
      "  44.79128964  40.4444457   61.60441246  75.0317716   48.66905507\n",
      "  52.70045058 110.00358256  71.16848707  84.1794918  122.1090103\n",
      "  36.81661495  79.65589589  69.14911237  74.43379139  52.22465059\n",
      "  74.1808555   94.97823164  71.37450546  35.28322396  99.23224795\n",
      "  97.34821785 110.88838292  83.34527689 123.90594159 111.1863325\n",
      "  76.06597083  81.72486316  73.77144703  48.7849622   84.21779384\n",
      "  72.80370748  49.76917122 104.81953383  62.18729735  82.66865792\n",
      "  58.88087891  97.49856293 106.14125072  92.67980363  83.65461191\n",
      "  92.27291356  50.82430125  97.64673386  59.04241143  81.78801207\n",
      "  55.19385792  68.04591306  71.86795059  85.18805905  66.06604277\n",
      "  99.04366634  74.18698962  67.92973104  79.12209489  46.48622909\n",
      "  73.84827676 131.57513936  55.97532379  58.1294091   55.87060025\n",
      " 127.93214084  55.34491667  94.80081459  54.93461597  89.14061594\n",
      "  44.26434037  97.82397369  87.13367822  98.63093509  80.43954746\n",
      "  90.98345972  73.00440193  65.02117214  86.95775574  80.99891297\n",
      "  82.8079176   48.65714132  84.3739276  101.72679399  86.39118062\n",
      "  75.38148855  46.65004019  96.99482259  50.36674278  73.81078187\n",
      " 102.50617409  69.56138778 121.32572491  46.13948253  98.70268892\n",
      "  34.11769129  36.00926065  40.95585396  73.29863957 119.50857799\n",
      " 100.7535427   83.28177837 101.38112177 126.24809917  96.90746589\n",
      "  58.57719167  92.26113668  93.0806549   50.943723    30.64135024\n",
      "  71.45360419]\n"
     ]
    }
   ],
   "source": [
    "print (y_pred)"
   ]
  },
  {
   "cell_type": "code",
   "execution_count": 218,
   "metadata": {},
   "outputs": [],
   "source": [
    "from sklearn import linear_model\n",
    "ols = linear_model.LinearRegression()\n",
    "model = reg.fit(x_train, y_train)\n",
    "\n",
    "predictions = model.predict(x_test)"
   ]
  },
  {
   "cell_type": "code",
   "execution_count": 219,
   "metadata": {},
   "outputs": [
    {
     "data": {
      "text/plain": [
       "<matplotlib.collections.PathCollection at 0x14b0a7dd3c8>"
      ]
     },
     "execution_count": 219,
     "metadata": {},
     "output_type": "execute_result"
    },
    {
     "data": {
      "image/png": "[encoded data removed]",
      "text/plain": [
       "<Figure size 432x288 with 1 Axes>"
      ]
     },
     "metadata": {},
     "output_type": "display_data"
    }
   ],
   "source": [
    "plt.scatter(y_test,y_pred)"
   ]
  }
 ],
 "metadata": {
  "kernelspec": {
   "display_name": "Python 3",
   "language": "python",
   "name": "python3"
  },
  "language_info": {
   "codemirror_mode": {
    "name": "ipython",
    "version": 3
   },
   "file_extension": ".py",
   "mimetype": "text/x-python",
   "name": "python",
   "nbconvert_exporter": "python",
   "pygments_lexer": "ipython3",
   "version": "3.6.5"
  }
 },
 "nbformat": 4,
 "nbformat_minor": 2
}
